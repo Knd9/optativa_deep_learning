{
 "cells": [
  {
   "cell_type": "markdown",
   "id": "562aeff3",
   "metadata": {},
   "source": [
    "# Trabajo Práctico de Aprendizaje Automático Profundo"
   ]
  },
  {
   "cell_type": "markdown",
   "id": "5fa305a9",
   "metadata": {},
   "source": [
    "> **Integrantes**: Candela Spitale | Fernando Cardellino | Carina Giovine | Carlos Serra"
   ]
  },
  {
   "cell_type": "markdown",
   "id": "182fcfbb",
   "metadata": {},
   "source": [
    "## Inicialización de ambiente"
   ]
  },
  {
   "cell_type": "code",
   "execution_count": 1,
   "id": "cb813df3",
   "metadata": {},
   "outputs": [],
   "source": [
    "import gzip\n",
    "import bz2\n",
    "import json\n",
    "import mlflow\n",
    "import pandas as pd\n",
    "import random\n",
    "\n",
    "import tempfile\n",
    "import torch\n",
    "import torch.optim as optim\n",
    "import torch.nn as nn\n",
    "import torch.nn.functional as F\n",
    "from torch.utils.data import IterableDataset, DataLoader\n",
    "from tqdm.notebook import tqdm, trange\n",
    "\n",
    "from sklearn.model_selection import train_test_split\n",
    "from sklearn.metrics import balanced_accuracy_score"
   ]
  },
  {
   "cell_type": "code",
   "execution_count": 2,
   "id": "237b148f",
   "metadata": {},
   "outputs": [
    {
     "data": {
      "text/plain": [
       "'1.10.1+cu111'"
      ]
     },
     "execution_count": 2,
     "metadata": {},
     "output_type": "execute_result"
    }
   ],
   "source": [
    "torch.__version__"
   ]
  },
  {
   "cell_type": "code",
   "execution_count": 3,
   "id": "0dbcbf0d",
   "metadata": {},
   "outputs": [
    {
     "data": {
      "text/plain": [
       "True"
      ]
     },
     "execution_count": 3,
     "metadata": {},
     "output_type": "execute_result"
    }
   ],
   "source": [
    "torch.cuda.is_available()"
   ]
  },
  {
   "cell_type": "code",
   "execution_count": 4,
   "id": "63037b69",
   "metadata": {},
   "outputs": [],
   "source": [
    "# para usar GPU\n",
    "device = torch.device(\"cuda:1\" if torch.cuda.is_available() else \"cpu\")"
   ]
  },
  {
   "cell_type": "code",
   "execution_count": null,
   "id": "b47a924d",
   "metadata": {},
   "outputs": [],
   "source": [
    "# Descargamos los datasets\n",
    "!curl -L https://cs.famaf.unc.edu.ar/\\~ccardellino/resources/diplodatos/meli-challenge-2019.tar.bz2 -o ./data/meli-challenge-2019.tar.bz2\n",
    "!tar jxvf ./data/meli-challenge-2019.tar.bz2 -C ./data/"
   ]
  },
  {
   "cell_type": "code",
   "execution_count": null,
   "id": "4a214edd",
   "metadata": {},
   "outputs": [],
   "source": [
    "# Descargamos word embeddings\n",
    "!curl -L https://cs.famaf.unc.edu.ar/~ccardellino/SBWCE/SBW-vectors-300-min5.txt.bz2 -o ./data/SBW-vectors-300-min5.txt.bz2"
   ]
  },
  {
   "cell_type": "markdown",
   "id": "4d37eff0",
   "metadata": {},
   "source": [
    "## 0. Análisis y Visualización"
   ]
  },
  {
   "cell_type": "code",
   "execution_count": 21,
   "id": "f63ffbbb",
   "metadata": {
    "scrolled": true
   },
   "outputs": [
    {
     "name": "stdout",
     "output_type": "stream",
     "text": [
      "CPU times: user 2min 20s, sys: 36 s, total: 2min 56s\n",
      "Wall time: 2min 55s\n"
     ]
    }
   ],
   "source": [
    "%%time\n",
    "meli_df_train = pd.read_json(\n",
    "    './data/meli-challenge-2019/spanish.train.jsonl.gz', lines=True)\n",
    "\n",
    "meli_df_val = pd.read_json(\n",
    "    './data/meli-challenge-2019/spanish.validation.jsonl.gz',lines=True)\n",
    "\n",
    "meli_df_test = pd.read_json(\n",
    "    './data/meli-challenge-2019/spanish.test.jsonl.gz',lines=True)"
   ]
  },
  {
   "cell_type": "markdown",
   "id": "10ba1290",
   "metadata": {},
   "source": [
    "Vemos qué presenta cada conjunto"
   ]
  },
  {
   "cell_type": "code",
   "execution_count": 59,
   "id": "806a773e",
   "metadata": {},
   "outputs": [
    {
     "name": "stdout",
     "output_type": "stream",
     "text": [
      "Conjunto de Entrenamiento\n",
      "\n",
      "<class 'pandas.core.frame.DataFrame'>\n",
      "RangeIndex: 4895280 entries, 0 to 4895279\n",
      "Data columns (total 10 columns):\n",
      " #   Column           Dtype \n",
      "---  ------           ----- \n",
      " 0   language         object\n",
      " 1   label_quality    object\n",
      " 2   title            object\n",
      " 3   category         object\n",
      " 4   split            object\n",
      " 5   tokenized_title  object\n",
      " 6   data             object\n",
      " 7   target           int64 \n",
      " 8   n_labels         int64 \n",
      " 9   size             int64 \n",
      "dtypes: int64(3), object(7)\n",
      "memory usage: 373.5+ MB\n",
      "\n",
      "Datos nulos\n",
      "\n"
     ]
    },
    {
     "data": {
      "text/plain": [
       "language           0\n",
       "label_quality      0\n",
       "title              0\n",
       "category           0\n",
       "split              0\n",
       "tokenized_title    0\n",
       "data               0\n",
       "target             0\n",
       "n_labels           0\n",
       "size               0\n",
       "dtype: int64"
      ]
     },
     "execution_count": 59,
     "metadata": {},
     "output_type": "execute_result"
    }
   ],
   "source": [
    "print(\"Conjunto de Entrenamiento\\n\")\n",
    "meli_df_train.info()\n",
    "meli_df_train.head(3)\n",
    "print(\"\\nDatos nulos\\n\")\n",
    "meli_df_train.isnull().sum()"
   ]
  },
  {
   "cell_type": "code",
   "execution_count": 60,
   "id": "2a3fc4d6",
   "metadata": {},
   "outputs": [
    {
     "name": "stdout",
     "output_type": "stream",
     "text": [
      "Conjunto de Validación\n",
      "\n",
      "<class 'pandas.core.frame.DataFrame'>\n",
      "RangeIndex: 1223820 entries, 0 to 1223819\n",
      "Data columns (total 10 columns):\n",
      " #   Column           Non-Null Count    Dtype \n",
      "---  ------           --------------    ----- \n",
      " 0   language         1223820 non-null  object\n",
      " 1   label_quality    1223820 non-null  object\n",
      " 2   title            1223820 non-null  object\n",
      " 3   category         1223820 non-null  object\n",
      " 4   split            1223820 non-null  object\n",
      " 5   tokenized_title  1223820 non-null  object\n",
      " 6   data             1223820 non-null  object\n",
      " 7   target           1223820 non-null  int64 \n",
      " 8   n_labels         1223820 non-null  int64 \n",
      " 9   size             1223820 non-null  int64 \n",
      "dtypes: int64(3), object(7)\n",
      "memory usage: 93.4+ MB\n",
      "\n",
      "Datos nulos\n"
     ]
    },
    {
     "data": {
      "text/plain": [
       "language           0\n",
       "label_quality      0\n",
       "title              0\n",
       "category           0\n",
       "split              0\n",
       "tokenized_title    0\n",
       "data               0\n",
       "target             0\n",
       "n_labels           0\n",
       "size               0\n",
       "dtype: int64"
      ]
     },
     "execution_count": 60,
     "metadata": {},
     "output_type": "execute_result"
    }
   ],
   "source": [
    "print(\"Conjunto de Validación\\n\")\n",
    "meli_df_val.info()\n",
    "meli_df_val.head(3)\n",
    "print(\"\\nDatos nulos\")\n",
    "meli_df_val.isnull().sum()"
   ]
  },
  {
   "cell_type": "code",
   "execution_count": 61,
   "id": "43206dc0",
   "metadata": {
    "scrolled": true
   },
   "outputs": [
    {
     "name": "stdout",
     "output_type": "stream",
     "text": [
      "Conjunto de Test\n",
      "\n",
      "<class 'pandas.core.frame.DataFrame'>\n",
      "RangeIndex: 63680 entries, 0 to 63679\n",
      "Data columns (total 10 columns):\n",
      " #   Column           Non-Null Count  Dtype \n",
      "---  ------           --------------  ----- \n",
      " 0   language         63680 non-null  object\n",
      " 1   label_quality    63680 non-null  object\n",
      " 2   title            63680 non-null  object\n",
      " 3   category         63680 non-null  object\n",
      " 4   split            63680 non-null  object\n",
      " 5   tokenized_title  63680 non-null  object\n",
      " 6   data             63680 non-null  object\n",
      " 7   target           63680 non-null  int64 \n",
      " 8   n_labels         63680 non-null  int64 \n",
      " 9   size             63680 non-null  int64 \n",
      "dtypes: int64(3), object(7)\n",
      "memory usage: 4.9+ MB\n",
      "\n",
      "Datos nulos\n",
      "\n"
     ]
    },
    {
     "data": {
      "text/plain": [
       "language           0\n",
       "label_quality      0\n",
       "title              0\n",
       "category           0\n",
       "split              0\n",
       "tokenized_title    0\n",
       "data               0\n",
       "target             0\n",
       "n_labels           0\n",
       "size               0\n",
       "dtype: int64"
      ]
     },
     "execution_count": 61,
     "metadata": {},
     "output_type": "execute_result"
    }
   ],
   "source": [
    "print(\"Conjunto de Test\\n\")\n",
    "meli_df_test.info()\n",
    "meli_df_test.head(3)\n",
    "print(\"\\nDatos nulos\\n\")\n",
    "meli_df_test.isnull().sum()"
   ]
  },
  {
   "cell_type": "markdown",
   "id": "9076dc61",
   "metadata": {},
   "source": [
    "Los 3 conjuntos no presentan datos nulos."
   ]
  },
  {
   "cell_type": "code",
   "execution_count": 35,
   "id": "7c6d60c1",
   "metadata": {},
   "outputs": [
    {
     "name": "stdout",
     "output_type": "stream",
     "text": [
      "cantidad de categorías de train 632\n"
     ]
    }
   ],
   "source": [
    "print(\"cantidad de categorías de train {}\".format(len(meli_df_train.category.unique())))"
   ]
  },
  {
   "cell_type": "code",
   "execution_count": 36,
   "id": "f0511063",
   "metadata": {},
   "outputs": [
    {
     "name": "stdout",
     "output_type": "stream",
     "text": [
      "cantidad de categorías de train 632\n"
     ]
    }
   ],
   "source": [
    "print(\"cantidad de categorías de train {}\".format(len(meli_df_val.category.unique())))"
   ]
  },
  {
   "cell_type": "code",
   "execution_count": 37,
   "id": "cd52115d",
   "metadata": {},
   "outputs": [
    {
     "name": "stdout",
     "output_type": "stream",
     "text": [
      "cantidad de categorías de train 632\n"
     ]
    }
   ],
   "source": [
    "print(\"cantidad de categorías de train {}\".format(len(meli_df_test.category.unique())))"
   ]
  },
  {
   "cell_type": "code",
   "execution_count": 38,
   "id": "4308c18a",
   "metadata": {},
   "outputs": [
    {
     "name": "stdout",
     "output_type": "stream",
     "text": [
      "cantidad de títulos de train 4895280\n"
     ]
    }
   ],
   "source": [
    "print(\"cantidad de títulos de train {}\".format(len(meli_df_train.title.unique())))"
   ]
  },
  {
   "cell_type": "code",
   "execution_count": 39,
   "id": "f4ff3cc0",
   "metadata": {},
   "outputs": [
    {
     "name": "stdout",
     "output_type": "stream",
     "text": [
      "cantidad de títulos de val 1223820\n"
     ]
    }
   ],
   "source": [
    "print(\"cantidad de títulos de val {}\".format(len(meli_df_val.title.unique())))"
   ]
  },
  {
   "cell_type": "code",
   "execution_count": 40,
   "id": "dbe94a6e",
   "metadata": {},
   "outputs": [
    {
     "name": "stdout",
     "output_type": "stream",
     "text": [
      "cantidad de títulos de test 63680\n"
     ]
    }
   ],
   "source": [
    "print(\"cantidad de títulos de test {}\".format(len(meli_df_test.title.unique())))"
   ]
  },
  {
   "cell_type": "code",
   "execution_count": 9,
   "id": "0c0f5e09",
   "metadata": {},
   "outputs": [],
   "source": [
    "#!curl -L https://cs.famaf.unc.edu.ar/~ccardellino/SBWCE/SBW-vectors-300-min5.txt.bz2 -o ./data/SBW-vectors-300-min5.txt.bz2"
   ]
  },
  {
   "cell_type": "code",
   "execution_count": 10,
   "id": "103598e2",
   "metadata": {},
   "outputs": [],
   "source": [
    "#embeddings = pd.read_csv('./data/SBW-vectors-300-min5.txt.bz2', nrows=20)"
   ]
  },
  {
   "cell_type": "code",
   "execution_count": 11,
   "id": "8a188b2a",
   "metadata": {},
   "outputs": [],
   "source": [
    "#embeddings"
   ]
  },
  {
   "cell_type": "markdown",
   "id": "f92e1ee8",
   "metadata": {},
   "source": [
    "## 1. Hacer un preprocesamiento de los datos\n",
    "\n",
    "Los conjuntos json de `spanish.{split}.json` ya están preprocesados y tokenizados, con las columnas `data` (referente a **title**) y `target` (referente a **category**). Esto se hizo en el [repositorio de la materia](https://github.com/DiploDatos/AprendizajeProfundo) en el archivo `experiment/preprocess_meli_data.ipynb`. Por lo cual, los utilizaremos directamente accediendo a estas columnas.\n"
   ]
  },
  {
   "cell_type": "markdown",
   "id": "e425e269",
   "metadata": {},
   "source": [
    "## 2. Tener un manejador del dataset"
   ]
  },
  {
   "cell_type": "code",
   "execution_count": 5,
   "id": "68ec8c5b",
   "metadata": {},
   "outputs": [],
   "source": [
    "class MeliChallengeDataset(IterableDataset):\n",
    "    def __init__(self,\n",
    "                 dataset_path,\n",
    "                 random_buffer_size=2048):\n",
    "        assert random_buffer_size > 0\n",
    "        self.dataset_path = dataset_path\n",
    "        self.random_buffer_size = random_buffer_size\n",
    "\n",
    "        with gzip.open(self.dataset_path, \"rt\") as dataset:\n",
    "            item = json.loads(next(dataset).strip())\n",
    "            self.n_labels = item[\"n_labels\"]\n",
    "            self.dataset_size = item[\"size\"]\n",
    "\n",
    "    def __len__(self):\n",
    "        return self.dataset_size\n",
    "\n",
    "    def __iter__(self):\n",
    "        try:\n",
    "            with gzip.open(self.dataset_path, \"rt\") as dataset:\n",
    "                shuffle_buffer = []\n",
    "\n",
    "                for line in dataset:\n",
    "                    item = json.loads(line.strip())\n",
    "                    item = {\n",
    "                        \"data\": item[\"data\"],\n",
    "                        \"target\": item[\"target\"]\n",
    "                    }\n",
    "\n",
    "                    if self.random_buffer_size == 1:\n",
    "                        yield item\n",
    "                    else:\n",
    "                        shuffle_buffer.append(item)\n",
    "\n",
    "                        if len(shuffle_buffer) == self.random_buffer_size:\n",
    "                            random.shuffle(shuffle_buffer)\n",
    "                            for item in shuffle_buffer:\n",
    "                                yield item\n",
    "                            shuffle_buffer = []\n",
    "\n",
    "                if len(shuffle_buffer) > 0:\n",
    "                    random.shuffle(shuffle_buffer)\n",
    "                    for item in shuffle_buffer:\n",
    "                        yield item\n",
    "        except GeneratorExit:\n",
    "            return"
   ]
  },
  {
   "cell_type": "code",
   "execution_count": 7,
   "id": "110e74ea",
   "metadata": {},
   "outputs": [],
   "source": [
    "train_dataset = MeliChallengeDataset('./data/meli-challenge-2019/spanish.train.jsonl.gz')\n",
    "\n",
    "val_dataset = MeliChallengeDataset('./data/meli-challenge-2019/spanish.validation.jsonl.gz')\n",
    "\n",
    "test_dataset = MeliChallengeDataset('./data/meli-challenge-2019/spanish.test.jsonl.gz')"
   ]
  },
  {
   "cell_type": "code",
   "execution_count": null,
   "id": "4dd80284",
   "metadata": {},
   "outputs": [],
   "source": [
    "class PadSequences:\n",
    "    def __init__(self, pad_value=0, max_length=None, min_length=1):\n",
    "        assert max_length is None or min_length <= max_length\n",
    "        self.pad_value = pad_value\n",
    "        self.max_length = max_length\n",
    "        self.min_length = min_length\n",
    "\n",
    "    def __call__(self, items):\n",
    "        data, target = list(zip(*[(item[\"data\"], item[\"target\"]) for item in items]))\n",
    "        seq_lengths = [len(d) for d in data]\n",
    "\n",
    "        if self.max_length:\n",
    "            max_length = self.max_length\n",
    "            seq_lengths = [min(self.max_length, l) for l in seq_lengths]\n",
    "        else:\n",
    "            max_length = max(self.min_length, max(seq_lengths))\n",
    "\n",
    "        data = [d[:l] + [self.pad_value] * (max_length - l)\n",
    "                for d, l in zip(data, seq_lengths)]\n",
    "            \n",
    "        return {\n",
    "            \"data\": torch.LongTensor(data),\n",
    "            \"target\": torch.LongTensor(target)\n",
    "        }"
   ]
  },
  {
   "cell_type": "code",
   "execution_count": 8,
   "id": "e831b9d0",
   "metadata": {},
   "outputs": [],
   "source": [
    "pad_sequences = PadSequences(\n",
    "                    pad_value=0,\n",
    "                    max_length=None,\n",
    "                    min_length=1)\n",
    "\n",
    "train_loader = DataLoader(train_dataset, batch_size=128,\n",
    "                          collate_fn=pad_sequences, drop_last=False)\n",
    "\n",
    "val_loader = DataLoader(val_dataset, batch_size=128,\n",
    "                         collate_fn=pad_sequences, drop_last=False)\n",
    "\n",
    "test_loader = DataLoader(test_dataset, batch_size=128, \n",
    "                         collate_fn=pad_sequences, drop_last=False)"
   ]
  },
  {
   "cell_type": "markdown",
   "id": "ee8e4fde",
   "metadata": {},
   "source": [
    "## 3. Crear una clase para el modelo"
   ]
  },
  {
   "cell_type": "code",
   "execution_count": 9,
   "id": "fb8a25e9",
   "metadata": {},
   "outputs": [],
   "source": [
    "class MLC_Classifier(nn.Module):\n",
    "    def __init__(self, \n",
    "                 pretrained_embeddings_path, \n",
    "                 token_to_index,\n",
    "                 vector_size,\n",
    "                 freeze_embedings,\n",
    "                 hidden1_size,\n",
    "                 hidden2_size,\n",
    "                 hidden3_size,\n",
    "                 hidden4_size):\n",
    "\n",
    "        super().__init__()\n",
    "        with gzip.open(token_to_index, \"rt\") as fh:\n",
    "              token_to_index = json.load(fh)\n",
    "        embeddings_matrix = torch.randn(len(token_to_index), vector_size)\n",
    "        embeddings_matrix[0] = torch.zeros(vector_size)\n",
    "        \n",
    "        with bz2.open(pretrained_embeddings_path, \"rt\") as fh:\n",
    "            for line in fh:\n",
    "                word, vector = line.strip().split(None, 1)\n",
    "                if word in token_to_index:\n",
    "                    embeddings_matrix[token_to_index[word]] =\\\n",
    "                        torch.FloatTensor([float(n) for n in vector.split()])\n",
    "        \n",
    "        self.embeddings = nn.Embedding.from_pretrained(embeddings_matrix,\n",
    "                                                       freeze=freeze_embedings,\n",
    "                                                       padding_idx=0)\n",
    "        \n",
    "        self.hidden1 = nn.Linear(vector_size, hidden1_size)\n",
    "        self.hidden2 = nn.Linear(hidden1_size, hidden2_size)\n",
    "        self.hidden3 = nn.Linear(hidden2_size, hidden3_size)\n",
    "        self.hidden4 = nn.Linear(hidden3_size, hidden4_size)\n",
    "        self.output = nn.Linear(hidden4_size, 632)\n",
    "        self.vector_size = vector_size\n",
    "    \n",
    "    def forward(self, x):\n",
    "        x = self.embeddings(x)\n",
    "        x = torch.mean(x,dim=1) # estandarizamos el ancho de las matrices\n",
    "        x = F.relu(self.hidden1(x)) # función de activación de la capa 1\n",
    "        x = F.relu(self.hidden2(x))\n",
    "        x = F.relu(self.hidden3(x))\n",
    "        x = F.relu(self.hidden4(x))\n",
    "        x = self.output(x)\n",
    "        return x"
   ]
  },
  {
   "cell_type": "markdown",
   "id": "1b37adee",
   "metadata": {},
   "source": [
    "## 4. Hacer logs de entrenamiento. Usar MLFlow."
   ]
  },
  {
   "cell_type": "code",
   "execution_count": 10,
   "id": "e526044b",
   "metadata": {},
   "outputs": [],
   "source": [
    "def train_model(model, optimizer, loss_function, trainloader, epochs, use_tqdm=True):\n",
    "    model.train()  # Tell the model to set itself to \"train\" mode.\n",
    "    for epoch in range(epochs):  # loop over the dataset multiple times\n",
    "        running_loss = []\n",
    "        running_loss_displayed = 0.0\n",
    "        pbar = tqdm(trainloader) if use_tqdm else trainloader\n",
    "        for step, data in enumerate(pbar, 1):\n",
    "            # get the inputs; data is a list of [inputs, labels]\n",
    "            inputs = data[\"data\"].to(device)\n",
    "            labels = data[\"target\"].to(device)\n",
    "\n",
    "            # zero the parameter gradients\n",
    "            optimizer.zero_grad()\n",
    "\n",
    "            # forward + backward + optimize\n",
    "            outputs = model(inputs)\n",
    "            loss = loss_function(outputs, labels)\n",
    "            loss.backward()\n",
    "            optimizer.step()\n",
    "\n",
    "            # print statistics\n",
    "            running_loss.append(loss.item())\n",
    "            running_loss_displayed += loss.item()\n",
    "            if use_tqdm and step > 0 and step % 50 == 0: # print every 50 mini-batches\n",
    "                pbar.set_description(f\"[{epoch + 1}, \\\n",
    "                                    {step}] loss: {running_loss_displayed / step:.4g}\")\n",
    "    return running_loss\n"
   ]
  },
  {
   "cell_type": "markdown",
   "id": "7f717f67",
   "metadata": {},
   "source": [
    "Para ver cómo predice el modelo en un dataset que no conoce (dataset de `test`) necesitamos usar una métrica de evaluación. Dado que estamos con un problema multiclase, en este caso vamos a usar el **balance accuracy score**. \n",
    "\n",
    "A fin de probar configuraciones, arquitecturas o hiperparámetros y encontrar los mejores para el conjunto de `test`, utilizaremos esta métrica en el conjunto de `entrenamiento` y `validación`."
   ]
  },
  {
   "cell_type": "code",
   "execution_count": 11,
   "id": "6011ba4a",
   "metadata": {},
   "outputs": [],
   "source": [
    "def train_and_eval(model, optimizer, loss_function, trainloader, epochs,\n",
    "                   valloader, use_tqdm=True):\n",
    "\n",
    "    history = {'train_loss': [], 'val_loss': [], 'val_balanced_accuracy': []}\n",
    "    for epoch in range(epochs):  # loop over the dataset multiple times\n",
    "        print(\"Iniciando train con datos de entrenamiento\")\n",
    "        model.train()\n",
    "        running_loss = 0.0\n",
    "        pbar = tqdm(trainloader) if use_tqdm else trainloader\n",
    "        for step, data in enumerate(pbar, 1):\n",
    "            # get the inputs; data is a list of [inputs, labels]\n",
    "            inputs = data[\"data\"].to(device)\n",
    "            labels = data[\"target\"].to(device)\n",
    "            # zero the parameter gradients\n",
    "            optimizer.zero_grad()\n",
    "            # forward + backward + optimize\n",
    "            outputs = model(inputs.view(inputs.shape[0], -1))\n",
    "            loss = loss_function(outputs, labels)\n",
    "            loss.backward()\n",
    "            optimizer.step()\n",
    "\n",
    "            # print statistics\n",
    "            running_loss += loss.item()\n",
    "            if use_tqdm and step > 0 and step % 50 == 0:\n",
    "                pbar.set_description(\n",
    "                    f\"[{epoch + 1}, {step}] loss: {running_loss / step:.4g}\")\n",
    "\n",
    "        history['train_loss'].append((epoch, running_loss / step))\n",
    "\n",
    "        # At the end of the epoch, evaluate model on validation\n",
    "        print(\"Iniciando eval con datos de validación\")\n",
    "        model.eval();  # Activate evaluation mode\n",
    "        running_loss = 0.0\n",
    "        y_true = []\n",
    "        y_pred = []\n",
    "        with torch.no_grad():\n",
    "            pbar = tqdm(valloader) if use_tqdm else valloader\n",
    "            for step, data in enumerate(pbar, 1):\n",
    "                inputs = data[\"data\"].to(device)\n",
    "                labels = data[\"target\"].to(device)\n",
    "                outputs = model(inputs.view(inputs.shape[0], -1))\n",
    "                running_loss += loss_function(outputs, labels).item()\n",
    "                _, predicted = torch.max(outputs.data, 1)\n",
    "                y_true.extend(labels.cpu().numpy())\n",
    "                y_pred.extend(predicted.cpu().numpy())\n",
    "\n",
    "        history['val_balanced_accuracy'].append(balanced_accuracy_score(y_true, y_pred))\n",
    "        history['val_loss'].append((epoch, running_loss / step))\n",
    "    \n",
    "    return history"
   ]
  },
  {
   "cell_type": "code",
   "execution_count": 12,
   "id": "89ba0cd1",
   "metadata": {},
   "outputs": [],
   "source": [
    "def test_model(model, dataloader, prefix='test_', use_tqdm=True):\n",
    "    model.eval();  # Activate evaluation mode\n",
    "    running_loss = []\n",
    "    y_true = []\n",
    "    y_pred = []\n",
    "    with torch.no_grad():\n",
    "        pbar = tqdm(dataloader) if use_tqdm else dataloader\n",
    "        print(\"Iniciando experimento con conjunto de test\")\n",
    "        for data in pbar:\n",
    "            inputs = data[\"data\"].to(device)\n",
    "            labels = data[\"target\"].to(device)\n",
    "\n",
    "            outputs = model(inputs.view(inputs.shape[0], -1))\n",
    "            _, predicted = torch.max(outputs.data, 1)\n",
    "            y_true.extend(labels.cpu().numpy())\n",
    "            y_pred.extend(predicted.cpu().numpy())\n",
    "\n",
    "    return {\n",
    "        prefix + 'balanced_accuracy': balanced_accuracy_score(y_true, y_pred)\n",
    "    }"
   ]
  },
  {
   "cell_type": "code",
   "execution_count": 13,
   "id": "c30b44e2",
   "metadata": {},
   "outputs": [],
   "source": [
    "def run_experiment(model, epochs, trainloader, valloader, testloader=None, \n",
    "                    optimizer_class=optim.SGD, lr=0.001, weight_decay=0.0,\n",
    "                    use_tqdm=True):\n",
    "\n",
    "    loss_function = nn.CrossEntropyLoss()\n",
    "    optimizer = optimizer_class(model.parameters(), lr=lr,\n",
    "                                weight_decay=weight_decay)\n",
    "    history = train_and_eval(\n",
    "        model, optimizer, loss_function, trainloader, epochs,\n",
    "        valloader=valloader, use_tqdm=use_tqdm)\n",
    "    \n",
    "    if testloader:\n",
    "        test_results = test_model(model, testloader, use_tqdm=use_tqdm)\n",
    "\n",
    "    experiment = {\n",
    "        'arquitecture': str(model), 'loss': str(loss_function),\n",
    "        'epochs': epochs, 'lr': lr, 'optimizer': str(optimizer_class),\n",
    "        'weight_decay': weight_decay\n",
    "    }\n",
    "    \n",
    "    experiment.update(history)\n",
    "\n",
    "    if testloader:\n",
    "        experiment.update(test_results)\n",
    "    \n",
    "    return experiment\n",
    "\n"
   ]
  },
  {
   "cell_type": "code",
   "execution_count": 14,
   "id": "6ac54cf5",
   "metadata": {},
   "outputs": [],
   "source": [
    "def run__mlflow_experiment(indice, epochs,\n",
    "                           hidden1_size, hidden2_size, hidden3_size, hidden4_size,\n",
    "                           optimizer_class,\n",
    "                           lr,\n",
    "                           run_name,\n",
    "                           run_in_test=False):\n",
    "\n",
    "    with mlflow.start_run(run_name=run_name):\n",
    "        # como primer parámetro pasamos el archivo con los word embeddings descargados,\n",
    "        # como segundo parámetro pasamos los títulos tokenizados y las categorías \n",
    "        # tokenizadas con sus respectivos índices, \n",
    "        # resultante de la tokenización hecha en la carpeta experiments de la materia\n",
    "        model = MLC_Classifier(\"./data/SBW-vectors-300-min5.txt.bz2\",\n",
    "                               \"./data/meli-challenge-2019/spanish_token_to_index.json.gz\",\n",
    "                               300, True, \n",
    "                               hidden1_size, hidden2_size, hidden3_size, hidden4_size)\n",
    "        \n",
    "        model.to(device)\n",
    "        epochs = epochs\n",
    "        \n",
    "        mlflow.log_param(\"model_name\", \"MLC_Classifier\")\n",
    "        mlflow.log_param(\"freeze_embedding\", False)\n",
    "        mlflow.log_params({\n",
    "            \"embedding_size\": 300,\n",
    "            \"hidden1_size\": hidden1_size,\n",
    "            \"hidden2_size\": hidden2_size,\n",
    "            \"hidden3_size\": hidden3_size,\n",
    "            \"hidden4_size\": hidden4_size,            \n",
    "            \"optimizer\": optimizer_class,\n",
    "            \"lr\": lr\n",
    "        })\n",
    "        print(\"Exploring \", optimizer_class, lr)\n",
    "        \n",
    "        if run_in_test:\n",
    "            experiment = run_experiment(model, epochs, \n",
    "                                        train_loader, val_loader, \n",
    "                                        testloader=test_loader, \n",
    "                                        optimizer_class=optimizer_class, lr=lr)\n",
    "        else:\n",
    "            experiment = run_experiment(model, epochs, train_loader, val_loader, \n",
    "                                        optimizer_class=optimizer_class, lr=lr)\n",
    "            \n",
    "        for m in range(epochs):\n",
    "            mlflow.log_metrics({\n",
    "                'train_loss': experiment['train_loss'][m][1],\n",
    "                'val_loss':experiment['val_loss'][m][1],\n",
    "                'val_balanced_accuracy':experiment['val_balanced_accuracy'][m],    \n",
    "            },m)\n",
    "    \n",
    "        if run_in_test:\n",
    "            mlflow.log_metrics({\n",
    "                'test_balanced_accuracy':experiment['test_balanced_accuracy']\n",
    "            })\n",
    "\n",
    "        print(\"Creando artefacto de MlFlow\")\n",
    "        with tempfile.TemporaryDirectory() as tmpdirname:\n",
    "            targets = []\n",
    "            predictions = []\n",
    "            for batch in tqdm(val_loader):\n",
    "                inputs = batch[\"data\"].to(device)\n",
    "                labels = batch[\"target\"].to(device)\n",
    "                output = model(inputs)\n",
    "                targets.extend(labels.cpu().numpy())\n",
    "                _, predicted = torch.max(output.data, 1)\n",
    "                predictions.extend(predicted.cpu().numpy())\n",
    "\n",
    "            pd.DataFrame({\"prediction\": predictions, \"target\": targets}).to_csv(\n",
    "                f\"{tmpdirname}/predictions_l1-{hidden1_size}\"+\n",
    "                f\"size_l2-{hidden2_size}-sizel3-{hidden3_size}\"+\n",
    "                f\"size_l4-{hidden4_size}size_iteracion{indice}.csv.gz\", \n",
    "                    index=False\n",
    "            )\n",
    "            mlflow.log_artifact(\n",
    "                f\"{tmpdirname}/predictions_l1-{hidden1_size}\"+\n",
    "                f\"size_l2-{hidden2_size}-sizel3-{hidden3_size}\"+\n",
    "                f\"size_l4-{hidden4_size}size_iteracion{indice}.csv.gz\"\n",
    "            )\n",
    "        \n",
    "        return experiment"
   ]
  },
  {
   "cell_type": "markdown",
   "id": "3d8bc36e",
   "metadata": {},
   "source": [
    "En todos los runs del experimento hacemos una red perceptrón multicapa de 4 capas ocultas con los siguientes tamaños:\n",
    "\n",
    "* 1024 para la primera capa, considerando que el tamaño de input es 300, vamos aumentando las dimensiones\n",
    "* 2048 para la segunda capa oculta\n",
    "* 4096 para la tercera capa oculta\n",
    "* 2048 para la última capa, que discrimina entre 632 categorías de salida (casi el doble que el tamaño de input) reduciendo a la mitad en relación a la 3er capa oculta y duplicando en relación a la 1ra capa.\n",
    "\n",
    "Además, utilizamos `3` **épocas**.\n",
    "\n",
    "Variamos únicamente el **optimizador** y la **taza de aprendizaje**."
   ]
  },
  {
   "cell_type": "code",
   "execution_count": 16,
   "id": "17b9d8f7",
   "metadata": {
    "scrolled": true
   },
   "outputs": [
    {
     "name": "stderr",
     "output_type": "stream",
     "text": [
      "2022/10/27 23:14:58 INFO mlflow.tracking.fluent: Experiment with name 'experiment_w_3_epochs_l4' does not exist. Creating a new experiment.\n"
     ]
    },
    {
     "name": "stdout",
     "output_type": "stream",
     "text": [
      "Exploring  <class 'torch.optim.adam.Adam'> 0.0001\n",
      "Iniciando train con datos de entrenamiento\n"
     ]
    },
    {
     "data": {
      "application/vnd.jupyter.widget-view+json": {
       "model_id": "e25ce1fda85c437d9f01613a39b899a2",
       "version_major": 2,
       "version_minor": 0
      },
      "text/plain": [
       "  0%|          | 0/38245 [00:00<?, ?it/s]"
      ]
     },
     "metadata": {},
     "output_type": "display_data"
    },
    {
     "name": "stdout",
     "output_type": "stream",
     "text": [
      "Iniciando eval con datos de validación\n"
     ]
    },
    {
     "data": {
      "application/vnd.jupyter.widget-view+json": {
       "model_id": "28f81360aa9b4a4b9cf0a322cdc9946e",
       "version_major": 2,
       "version_minor": 0
      },
      "text/plain": [
       "  0%|          | 0/9562 [00:00<?, ?it/s]"
      ]
     },
     "metadata": {},
     "output_type": "display_data"
    },
    {
     "name": "stdout",
     "output_type": "stream",
     "text": [
      "Iniciando train con datos de entrenamiento\n"
     ]
    },
    {
     "data": {
      "application/vnd.jupyter.widget-view+json": {
       "model_id": "c5a16ec0695c49cab513a21584a705c5",
       "version_major": 2,
       "version_minor": 0
      },
      "text/plain": [
       "  0%|          | 0/38245 [00:00<?, ?it/s]"
      ]
     },
     "metadata": {},
     "output_type": "display_data"
    },
    {
     "name": "stdout",
     "output_type": "stream",
     "text": [
      "Iniciando eval con datos de validación\n"
     ]
    },
    {
     "data": {
      "application/vnd.jupyter.widget-view+json": {
       "model_id": "2e66290a8c8440db97a665c5a627ca1c",
       "version_major": 2,
       "version_minor": 0
      },
      "text/plain": [
       "  0%|          | 0/9562 [00:00<?, ?it/s]"
      ]
     },
     "metadata": {},
     "output_type": "display_data"
    },
    {
     "name": "stdout",
     "output_type": "stream",
     "text": [
      "Iniciando train con datos de entrenamiento\n"
     ]
    },
    {
     "data": {
      "application/vnd.jupyter.widget-view+json": {
       "model_id": "6362ef62ae0f4f699b24e83c7aee578c",
       "version_major": 2,
       "version_minor": 0
      },
      "text/plain": [
       "  0%|          | 0/38245 [00:00<?, ?it/s]"
      ]
     },
     "metadata": {},
     "output_type": "display_data"
    },
    {
     "name": "stdout",
     "output_type": "stream",
     "text": [
      "Iniciando eval con datos de validación\n"
     ]
    },
    {
     "data": {
      "application/vnd.jupyter.widget-view+json": {
       "model_id": "17fcef9c75084f53921bc44ec7ef420e",
       "version_major": 2,
       "version_minor": 0
      },
      "text/plain": [
       "  0%|          | 0/9562 [00:00<?, ?it/s]"
      ]
     },
     "metadata": {},
     "output_type": "display_data"
    },
    {
     "name": "stdout",
     "output_type": "stream",
     "text": [
      "Creando artefacto de MlFlow\n"
     ]
    },
    {
     "data": {
      "application/vnd.jupyter.widget-view+json": {
       "model_id": "144dff3b1eff4f129cf6c9b18ef6c097",
       "version_major": 2,
       "version_minor": 0
      },
      "text/plain": [
       "  0%|          | 0/9562 [00:00<?, ?it/s]"
      ]
     },
     "metadata": {},
     "output_type": "display_data"
    },
    {
     "name": "stdout",
     "output_type": "stream",
     "text": [
      "Exploring  <class 'torch.optim.adam.Adam'> 0.001\n",
      "Iniciando train con datos de entrenamiento\n"
     ]
    },
    {
     "data": {
      "application/vnd.jupyter.widget-view+json": {
       "model_id": "9b8fa107cd5d4d4b83f40d3f450d0cb1",
       "version_major": 2,
       "version_minor": 0
      },
      "text/plain": [
       "  0%|          | 0/38245 [00:00<?, ?it/s]"
      ]
     },
     "metadata": {},
     "output_type": "display_data"
    },
    {
     "name": "stdout",
     "output_type": "stream",
     "text": [
      "Iniciando eval con datos de validación\n"
     ]
    },
    {
     "data": {
      "application/vnd.jupyter.widget-view+json": {
       "model_id": "00cd4507d6544d3f802146afe2165b3e",
       "version_major": 2,
       "version_minor": 0
      },
      "text/plain": [
       "  0%|          | 0/9562 [00:00<?, ?it/s]"
      ]
     },
     "metadata": {},
     "output_type": "display_data"
    },
    {
     "name": "stdout",
     "output_type": "stream",
     "text": [
      "Iniciando train con datos de entrenamiento\n"
     ]
    },
    {
     "data": {
      "application/vnd.jupyter.widget-view+json": {
       "model_id": "068a7135178d4904a519802f04a7b20b",
       "version_major": 2,
       "version_minor": 0
      },
      "text/plain": [
       "  0%|          | 0/38245 [00:00<?, ?it/s]"
      ]
     },
     "metadata": {},
     "output_type": "display_data"
    },
    {
     "name": "stdout",
     "output_type": "stream",
     "text": [
      "Iniciando eval con datos de validación\n"
     ]
    },
    {
     "data": {
      "application/vnd.jupyter.widget-view+json": {
       "model_id": "66e58c6338e6452d87fd2836ac5a12af",
       "version_major": 2,
       "version_minor": 0
      },
      "text/plain": [
       "  0%|          | 0/9562 [00:00<?, ?it/s]"
      ]
     },
     "metadata": {},
     "output_type": "display_data"
    },
    {
     "name": "stdout",
     "output_type": "stream",
     "text": [
      "Iniciando train con datos de entrenamiento\n"
     ]
    },
    {
     "data": {
      "application/vnd.jupyter.widget-view+json": {
       "model_id": "c33f20f12e2249ac87489e8e1a979ce2",
       "version_major": 2,
       "version_minor": 0
      },
      "text/plain": [
       "  0%|          | 0/38245 [00:00<?, ?it/s]"
      ]
     },
     "metadata": {},
     "output_type": "display_data"
    },
    {
     "name": "stdout",
     "output_type": "stream",
     "text": [
      "Iniciando eval con datos de validación\n"
     ]
    },
    {
     "data": {
      "application/vnd.jupyter.widget-view+json": {
       "model_id": "9102082406f241aabf2d1ec26412b952",
       "version_major": 2,
       "version_minor": 0
      },
      "text/plain": [
       "  0%|          | 0/9562 [00:00<?, ?it/s]"
      ]
     },
     "metadata": {},
     "output_type": "display_data"
    },
    {
     "name": "stdout",
     "output_type": "stream",
     "text": [
      "Creando artefacto de MlFlow\n"
     ]
    },
    {
     "data": {
      "application/vnd.jupyter.widget-view+json": {
       "model_id": "fb110f4ce5004f46a24c921774f19c4f",
       "version_major": 2,
       "version_minor": 0
      },
      "text/plain": [
       "  0%|          | 0/9562 [00:00<?, ?it/s]"
      ]
     },
     "metadata": {},
     "output_type": "display_data"
    },
    {
     "name": "stdout",
     "output_type": "stream",
     "text": [
      "Exploring  <class 'torch.optim.rmsprop.RMSprop'> 0.0001\n",
      "Iniciando train con datos de entrenamiento\n"
     ]
    },
    {
     "data": {
      "application/vnd.jupyter.widget-view+json": {
       "model_id": "e209fcc48147477a929514d0ac7d8a69",
       "version_major": 2,
       "version_minor": 0
      },
      "text/plain": [
       "  0%|          | 0/38245 [00:00<?, ?it/s]"
      ]
     },
     "metadata": {},
     "output_type": "display_data"
    },
    {
     "name": "stdout",
     "output_type": "stream",
     "text": [
      "Iniciando eval con datos de validación\n"
     ]
    },
    {
     "data": {
      "application/vnd.jupyter.widget-view+json": {
       "model_id": "48b6a02c467a46fbb65196349e25b5bd",
       "version_major": 2,
       "version_minor": 0
      },
      "text/plain": [
       "  0%|          | 0/9562 [00:00<?, ?it/s]"
      ]
     },
     "metadata": {},
     "output_type": "display_data"
    },
    {
     "name": "stdout",
     "output_type": "stream",
     "text": [
      "Iniciando train con datos de entrenamiento\n"
     ]
    },
    {
     "data": {
      "application/vnd.jupyter.widget-view+json": {
       "model_id": "6392a5d77632495990e9daea26548ce7",
       "version_major": 2,
       "version_minor": 0
      },
      "text/plain": [
       "  0%|          | 0/38245 [00:00<?, ?it/s]"
      ]
     },
     "metadata": {},
     "output_type": "display_data"
    },
    {
     "name": "stdout",
     "output_type": "stream",
     "text": [
      "Iniciando eval con datos de validación\n"
     ]
    },
    {
     "data": {
      "application/vnd.jupyter.widget-view+json": {
       "model_id": "2d04cc0b5f3d4658b34e2ed47d90c2ea",
       "version_major": 2,
       "version_minor": 0
      },
      "text/plain": [
       "  0%|          | 0/9562 [00:00<?, ?it/s]"
      ]
     },
     "metadata": {},
     "output_type": "display_data"
    },
    {
     "name": "stdout",
     "output_type": "stream",
     "text": [
      "Iniciando train con datos de entrenamiento\n"
     ]
    },
    {
     "data": {
      "application/vnd.jupyter.widget-view+json": {
       "model_id": "98a99f822e8f4da5ab72ed43d2fc4cf4",
       "version_major": 2,
       "version_minor": 0
      },
      "text/plain": [
       "  0%|          | 0/38245 [00:00<?, ?it/s]"
      ]
     },
     "metadata": {},
     "output_type": "display_data"
    },
    {
     "name": "stdout",
     "output_type": "stream",
     "text": [
      "Iniciando eval con datos de validación\n"
     ]
    },
    {
     "data": {
      "application/vnd.jupyter.widget-view+json": {
       "model_id": "92e3bcede1ba47c1963b4505e557cff1",
       "version_major": 2,
       "version_minor": 0
      },
      "text/plain": [
       "  0%|          | 0/9562 [00:00<?, ?it/s]"
      ]
     },
     "metadata": {},
     "output_type": "display_data"
    },
    {
     "name": "stdout",
     "output_type": "stream",
     "text": [
      "Creando artefacto de MlFlow\n"
     ]
    },
    {
     "data": {
      "application/vnd.jupyter.widget-view+json": {
       "model_id": "2dcde8c4f63c45c3b2269c531f7ed671",
       "version_major": 2,
       "version_minor": 0
      },
      "text/plain": [
       "  0%|          | 0/9562 [00:00<?, ?it/s]"
      ]
     },
     "metadata": {},
     "output_type": "display_data"
    },
    {
     "name": "stdout",
     "output_type": "stream",
     "text": [
      "Exploring  <class 'torch.optim.rmsprop.RMSprop'> 0.001\n",
      "Iniciando train con datos de entrenamiento\n"
     ]
    },
    {
     "data": {
      "application/vnd.jupyter.widget-view+json": {
       "model_id": "935b7805407b490786a81daba1721306",
       "version_major": 2,
       "version_minor": 0
      },
      "text/plain": [
       "  0%|          | 0/38245 [00:00<?, ?it/s]"
      ]
     },
     "metadata": {},
     "output_type": "display_data"
    },
    {
     "name": "stdout",
     "output_type": "stream",
     "text": [
      "Iniciando eval con datos de validación\n"
     ]
    },
    {
     "data": {
      "application/vnd.jupyter.widget-view+json": {
       "model_id": "9d95498537b74ef69bbe26ec41711dd0",
       "version_major": 2,
       "version_minor": 0
      },
      "text/plain": [
       "  0%|          | 0/9562 [00:00<?, ?it/s]"
      ]
     },
     "metadata": {},
     "output_type": "display_data"
    },
    {
     "name": "stdout",
     "output_type": "stream",
     "text": [
      "Iniciando train con datos de entrenamiento\n"
     ]
    },
    {
     "data": {
      "application/vnd.jupyter.widget-view+json": {
       "model_id": "5d6e07a6ee40436cb40d447036fe1e1b",
       "version_major": 2,
       "version_minor": 0
      },
      "text/plain": [
       "  0%|          | 0/38245 [00:00<?, ?it/s]"
      ]
     },
     "metadata": {},
     "output_type": "display_data"
    },
    {
     "name": "stdout",
     "output_type": "stream",
     "text": [
      "Iniciando eval con datos de validación\n"
     ]
    },
    {
     "data": {
      "application/vnd.jupyter.widget-view+json": {
       "model_id": "d5808a18f25548da9c595d0ab48af25c",
       "version_major": 2,
       "version_minor": 0
      },
      "text/plain": [
       "  0%|          | 0/9562 [00:00<?, ?it/s]"
      ]
     },
     "metadata": {},
     "output_type": "display_data"
    },
    {
     "name": "stdout",
     "output_type": "stream",
     "text": [
      "Iniciando train con datos de entrenamiento\n"
     ]
    },
    {
     "data": {
      "application/vnd.jupyter.widget-view+json": {
       "model_id": "36ff689506b54ef1b1c94bc57f7f0d2c",
       "version_major": 2,
       "version_minor": 0
      },
      "text/plain": [
       "  0%|          | 0/38245 [00:00<?, ?it/s]"
      ]
     },
     "metadata": {},
     "output_type": "display_data"
    },
    {
     "name": "stdout",
     "output_type": "stream",
     "text": [
      "Iniciando eval con datos de validación\n"
     ]
    },
    {
     "data": {
      "application/vnd.jupyter.widget-view+json": {
       "model_id": "ae8cb353cb86475b84ba8a7018be2b70",
       "version_major": 2,
       "version_minor": 0
      },
      "text/plain": [
       "  0%|          | 0/9562 [00:00<?, ?it/s]"
      ]
     },
     "metadata": {},
     "output_type": "display_data"
    },
    {
     "name": "stdout",
     "output_type": "stream",
     "text": [
      "Creando artefacto de MlFlow\n"
     ]
    },
    {
     "data": {
      "application/vnd.jupyter.widget-view+json": {
       "model_id": "4d602b20a5d740dba91e4cb6ae08d044",
       "version_major": 2,
       "version_minor": 0
      },
      "text/plain": [
       "  0%|          | 0/9562 [00:00<?, ?it/s]"
      ]
     },
     "metadata": {},
     "output_type": "display_data"
    }
   ],
   "source": [
    "epochs = 3\n",
    "op_experiments = []\n",
    "mlflow.set_experiment(experiment_name=f\"experiment_w_{epochs}_epochs_l4\")\n",
    "indice = 0\n",
    "\n",
    "for optimizer_class in [optim.Adam, optim.RMSprop]:\n",
    "    for lr in [0.0001, 0.001]:\n",
    "\n",
    "        run_name = (\n",
    "            f\"op_class:{optimizer_class}_lr:{lr}_torch\"\n",
    "        )\n",
    "        experiment=run__mlflow_experiment(indice,\n",
    "                                          epochs,\n",
    "                                          1024,2048,4096,2048,\n",
    "                                          optimizer_class,\n",
    "                                          lr,\n",
    "                                          run_name=run_name)\n",
    "        op_experiments.append(experiment)\n",
    "        indice+=1"
   ]
  },
  {
   "cell_type": "code",
   "execution_count": 17,
   "id": "c238be90",
   "metadata": {},
   "outputs": [],
   "source": [
    "pd.DataFrame(op_experiments).to_csv(\n",
    "    f\"./data/op_experiments_w_{epochs}epochs_4l.csv.gz\"\n",
    ")"
   ]
  },
  {
   "cell_type": "markdown",
   "id": "6633cbff",
   "metadata": {},
   "source": [
    "## 5. Hacer un gráfico de la función de loss a lo largo de las epochs"
   ]
  },
  {
   "cell_type": "markdown",
   "id": "02cd9a4e",
   "metadata": {},
   "source": [
    "Usamos MLFlow y luego edición para identificar cada run, ya que en MLFlow no se lograban ver los hiperparámetros en el gráfico."
   ]
  },
  {
   "cell_type": "markdown",
   "id": "f119c4f5",
   "metadata": {},
   "source": [
    "> Comparación de loss a través de las 3 épocas en conjunto de **entrenamiento** y **validación**\n",
    "\n",
    "<img src='https://drive.google.com/uc?id=1z84GJLy4O_fcD8exVrw3eTEs228znyiP' name='train_loss'>\n",
    "\n",
    "<img src='https://drive.google.com/uc?id=1l0yIOfcAWIz1G4JTLmtNYiwVN8PHvyd4' name='val_loss'>"
   ]
  },
  {
   "cell_type": "markdown",
   "id": "59526b83",
   "metadata": {},
   "source": [
    "## 6. Reportar performance en el conjunto de test con el mejor modelo entrenado."
   ]
  },
  {
   "cell_type": "code",
   "execution_count": 33,
   "id": "225f8230",
   "metadata": {},
   "outputs": [
    {
     "name": "stdout",
     "output_type": "stream",
     "text": [
      "Exploring  <class 'torch.optim.adam.Adam'> 0.0001\n",
      "Iniciando train con datos de entrenamiento\n"
     ]
    },
    {
     "data": {
      "application/vnd.jupyter.widget-view+json": {
       "model_id": "a7a4b2fd17384257991ce5df4d1485c3",
       "version_major": 2,
       "version_minor": 0
      },
      "text/plain": [
       "  0%|          | 0/38245 [00:00<?, ?it/s]"
      ]
     },
     "metadata": {},
     "output_type": "display_data"
    },
    {
     "name": "stdout",
     "output_type": "stream",
     "text": [
      "Iniciando eval con datos de validación\n"
     ]
    },
    {
     "data": {
      "application/vnd.jupyter.widget-view+json": {
       "model_id": "72c4aeb9d3f74d7eb7840b98d6d3ffee",
       "version_major": 2,
       "version_minor": 0
      },
      "text/plain": [
       "  0%|          | 0/9562 [00:00<?, ?it/s]"
      ]
     },
     "metadata": {},
     "output_type": "display_data"
    },
    {
     "name": "stdout",
     "output_type": "stream",
     "text": [
      "Iniciando train con datos de entrenamiento\n"
     ]
    },
    {
     "data": {
      "application/vnd.jupyter.widget-view+json": {
       "model_id": "c7b55313d993486bb58dd4af21188101",
       "version_major": 2,
       "version_minor": 0
      },
      "text/plain": [
       "  0%|          | 0/38245 [00:00<?, ?it/s]"
      ]
     },
     "metadata": {},
     "output_type": "display_data"
    },
    {
     "name": "stdout",
     "output_type": "stream",
     "text": [
      "Iniciando eval con datos de validación\n"
     ]
    },
    {
     "data": {
      "application/vnd.jupyter.widget-view+json": {
       "model_id": "fe848712ac34406ba262f9e039c794f5",
       "version_major": 2,
       "version_minor": 0
      },
      "text/plain": [
       "  0%|          | 0/9562 [00:00<?, ?it/s]"
      ]
     },
     "metadata": {},
     "output_type": "display_data"
    },
    {
     "name": "stdout",
     "output_type": "stream",
     "text": [
      "Iniciando train con datos de entrenamiento\n"
     ]
    },
    {
     "data": {
      "application/vnd.jupyter.widget-view+json": {
       "model_id": "f80d97fd5a0a4aa9a2556b321194fcc6",
       "version_major": 2,
       "version_minor": 0
      },
      "text/plain": [
       "  0%|          | 0/38245 [00:00<?, ?it/s]"
      ]
     },
     "metadata": {},
     "output_type": "display_data"
    },
    {
     "name": "stdout",
     "output_type": "stream",
     "text": [
      "Iniciando eval con datos de validación\n"
     ]
    },
    {
     "data": {
      "application/vnd.jupyter.widget-view+json": {
       "model_id": "274813484e614ea8ba07b2096e24f90a",
       "version_major": 2,
       "version_minor": 0
      },
      "text/plain": [
       "  0%|          | 0/9562 [00:00<?, ?it/s]"
      ]
     },
     "metadata": {},
     "output_type": "display_data"
    },
    {
     "data": {
      "application/vnd.jupyter.widget-view+json": {
       "model_id": "97d07d23fcd14b94b3f7b5a36c525770",
       "version_major": 2,
       "version_minor": 0
      },
      "text/plain": [
       "  0%|          | 0/498 [00:00<?, ?it/s]"
      ]
     },
     "metadata": {},
     "output_type": "display_data"
    },
    {
     "name": "stdout",
     "output_type": "stream",
     "text": [
      "Iniciando experimento con conjunto de test\n",
      "Creando artefacto de MlFlow\n"
     ]
    },
    {
     "data": {
      "application/vnd.jupyter.widget-view+json": {
       "model_id": "c1750c7889544205acb033ad4eae3f34",
       "version_major": 2,
       "version_minor": 0
      },
      "text/plain": [
       "  0%|          | 0/9562 [00:00<?, ?it/s]"
      ]
     },
     "metadata": {},
     "output_type": "display_data"
    }
   ],
   "source": [
    "epochs = 3\n",
    "op_experiments = []\n",
    "mlflow.set_experiment(experiment_name=f\"test_experiment_w_{epochs}_epochs\")\n",
    "indice = 0\n",
    "\n",
    "optimizer_class = optim.Adam\n",
    "lr = 0.0001\n",
    "\n",
    "run_name = f\"test_op_class:{optimizer_class}_lr:{lr}_torch-mean\"\n",
    "\n",
    "experiment = run__mlflow_experiment(indice,\n",
    "                                  epochs,\n",
    "                                  1024,2048,4096,2048,\n",
    "                                  optimizer_class,\n",
    "                                  lr,\n",
    "                                  run_name=run_name,\n",
    "                                  run_in_test=True)\n",
    "op_experiments.append(experiment)\n",
    "indice+=1\n",
    "\n",
    "pd.DataFrame(op_experiments).to_csv(\n",
    "    f\"./data/test_op_experiments_w_{epochs}epochs_4l.csv.gz\")"
   ]
  },
  {
   "cell_type": "markdown",
   "id": "ecfeedce",
   "metadata": {},
   "source": [
    "> Performance del conjunto de test con el mejor modelo entrenado: Optim: Adam, LR: 0.0001\n",
    "\n",
    "<img src='https://drive.google.com/uc?id=1W2siwQs6U-V1rYJez5bv5s7bs2j4_4DQ' name='val_loss' name='test_balanced_accuracy'>"
   ]
  },
  {
   "cell_type": "code",
   "execution_count": null,
   "id": "fc54a11c",
   "metadata": {},
   "outputs": [],
   "source": []
  }
 ],
 "metadata": {
  "kernelspec": {
   "display_name": "Python 3 (ipykernel)",
   "language": "python",
   "name": "python3"
  },
  "language_info": {
   "codemirror_mode": {
    "name": "ipython",
    "version": 3
   },
   "file_extension": ".py",
   "mimetype": "text/x-python",
   "name": "python",
   "nbconvert_exporter": "python",
   "pygments_lexer": "ipython3",
   "version": "3.9.5"
  }
 },
 "nbformat": 4,
 "nbformat_minor": 5
}
